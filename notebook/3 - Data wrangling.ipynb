{
 "cells": [
  {
   "cell_type": "code",
   "execution_count": 9,
   "metadata": {
    "collapsed": true
   },
   "outputs": [],
   "source": [
    "import pandas as pd\n",
    "pd.set_option('display.max_colwidth', 500)\n",
    "%matplotlib inline"
   ]
  },
  {
   "cell_type": "code",
   "execution_count": 2,
   "metadata": {
    "collapsed": true
   },
   "outputs": [],
   "source": [
    "%run carrega_dados.py"
   ]
  },
  {
   "cell_type": "code",
   "execution_count": 3,
   "metadata": {
    "collapsed": false
   },
   "outputs": [
    {
     "data": {
      "text/html": [
       "<div>\n",
       "<table border=\"1\" class=\"dataframe\">\n",
       "  <thead>\n",
       "    <tr style=\"text-align: right;\">\n",
       "      <th></th>\n",
       "      <th>SQ_CANDIDATO</th>\n",
       "      <th>TIPO_BEM_CANDIDATO</th>\n",
       "      <th>DS_TIPO_BEM_CANDIDATO</th>\n",
       "      <th>VALOR_BEM</th>\n",
       "    </tr>\n",
       "  </thead>\n",
       "  <tbody>\n",
       "    <tr>\n",
       "      <th>0</th>\n",
       "      <td>60000001105</td>\n",
       "      <td>Veículo automotor terrestre: caminhão, automóv...</td>\n",
       "      <td>UMA MOTO HONDA BIZ 2005</td>\n",
       "      <td>2000.0</td>\n",
       "    </tr>\n",
       "  </tbody>\n",
       "</table>\n",
       "</div>"
      ],
      "text/plain": [
       "   SQ_CANDIDATO                                 TIPO_BEM_CANDIDATO  \\\n",
       "0   60000001105  Veículo automotor terrestre: caminhão, automóv...   \n",
       "\n",
       "     DS_TIPO_BEM_CANDIDATO  VALOR_BEM  \n",
       "0  UMA MOTO HONDA BIZ 2005     2000.0  "
      ]
     },
     "execution_count": 3,
     "metadata": {},
     "output_type": "execute_result"
    }
   ],
   "source": [
    "bens.head(1)"
   ]
  },
  {
   "cell_type": "code",
   "execution_count": 4,
   "metadata": {
    "collapsed": false
   },
   "outputs": [
    {
     "data": {
      "text/html": [
       "<div>\n",
       "<table border=\"1\" class=\"dataframe\">\n",
       "  <thead>\n",
       "    <tr style=\"text-align: right;\">\n",
       "      <th></th>\n",
       "      <th>DESCRICAO_UE</th>\n",
       "      <th>DESCRICAO_CARGO</th>\n",
       "      <th>NOME_CANDIDATO</th>\n",
       "      <th>SEQUENCIAL_CANDIDATO</th>\n",
       "      <th>DES_SITUACAO_CANDIDATURA</th>\n",
       "      <th>SIGLA_PARTIDO</th>\n",
       "      <th>DESCRICAO_OCUPACAO</th>\n",
       "      <th>IDADE_DATA_ELEICAO</th>\n",
       "      <th>DESCRICAO_SEXO</th>\n",
       "      <th>DESCRICAO_GRAU_INSTRUCAO</th>\n",
       "      <th>DESCRICAO_ESTADO_CIVIL</th>\n",
       "      <th>DESCRICAO_COR_RACA</th>\n",
       "      <th>DESCRICAO_NACIONALIDADE</th>\n",
       "      <th>NOME_MUNICIPIO_NASCIMENTO</th>\n",
       "      <th>DESPESA_MAX_CAMPANHA</th>\n",
       "    </tr>\n",
       "  </thead>\n",
       "  <tbody>\n",
       "    <tr>\n",
       "      <th>0</th>\n",
       "      <td>SÃO JOÃO DO JAGUARIBE</td>\n",
       "      <td>VEREADOR</td>\n",
       "      <td>MARGARIDA MACIEL DA SILVA</td>\n",
       "      <td>60000001208</td>\n",
       "      <td>DEFERIDO</td>\n",
       "      <td>PT</td>\n",
       "      <td>AGRICULTOR</td>\n",
       "      <td>50</td>\n",
       "      <td>FEMININO</td>\n",
       "      <td>ENSINO FUNDAMENTAL INCOMPLETO</td>\n",
       "      <td>CASADO(A)</td>\n",
       "      <td>PRETA</td>\n",
       "      <td>BRASILEIRA NATA</td>\n",
       "      <td>SAO JOAO DO JAGUARIBE</td>\n",
       "      <td>-1</td>\n",
       "    </tr>\n",
       "  </tbody>\n",
       "</table>\n",
       "</div>"
      ],
      "text/plain": [
       "            DESCRICAO_UE DESCRICAO_CARGO             NOME_CANDIDATO  \\\n",
       "0  SÃO JOÃO DO JAGUARIBE        VEREADOR  MARGARIDA MACIEL DA SILVA   \n",
       "\n",
       "   SEQUENCIAL_CANDIDATO DES_SITUACAO_CANDIDATURA SIGLA_PARTIDO  \\\n",
       "0           60000001208                 DEFERIDO            PT   \n",
       "\n",
       "  DESCRICAO_OCUPACAO  IDADE_DATA_ELEICAO DESCRICAO_SEXO  \\\n",
       "0         AGRICULTOR                  50       FEMININO   \n",
       "\n",
       "        DESCRICAO_GRAU_INSTRUCAO DESCRICAO_ESTADO_CIVIL DESCRICAO_COR_RACA  \\\n",
       "0  ENSINO FUNDAMENTAL INCOMPLETO              CASADO(A)              PRETA   \n",
       "\n",
       "  DESCRICAO_NACIONALIDADE NOME_MUNICIPIO_NASCIMENTO  DESPESA_MAX_CAMPANHA  \n",
       "0         BRASILEIRA NATA     SAO JOAO DO JAGUARIBE                    -1  "
      ]
     },
     "execution_count": 4,
     "metadata": {},
     "output_type": "execute_result"
    }
   ],
   "source": [
    "cand.head(1)"
   ]
  },
  {
   "cell_type": "code",
   "execution_count": 52,
   "metadata": {
    "collapsed": false
   },
   "outputs": [
    {
     "data": {
      "text/plain": [
       "Index(['DESCRICAO_UE', 'DESCRICAO_CARGO', 'NOME_CANDIDATO',\n",
       "       'SEQUENCIAL_CANDIDATO', 'DES_SITUACAO_CANDIDATURA', 'SIGLA_PARTIDO',\n",
       "       'DESCRICAO_OCUPACAO', 'IDADE_DATA_ELEICAO', 'DESCRICAO_SEXO',\n",
       "       'DESCRICAO_GRAU_INSTRUCAO', 'DESCRICAO_ESTADO_CIVIL',\n",
       "       'DESCRICAO_COR_RACA', 'DESCRICAO_NACIONALIDADE',\n",
       "       'NOME_MUNICIPIO_NASCIMENTO', 'DESPESA_MAX_CAMPANHA'],\n",
       "      dtype='object')"
      ]
     },
     "execution_count": 52,
     "metadata": {},
     "output_type": "execute_result"
    }
   ],
   "source": [
    "cand.columns"
   ]
  },
  {
   "cell_type": "markdown",
   "metadata": {},
   "source": [
    "# Total de bens por candidato"
   ]
  },
  {
   "cell_type": "code",
   "execution_count": 48,
   "metadata": {
    "collapsed": false
   },
   "outputs": [],
   "source": [
    "bens_total = bens.groupby(['SQ_CANDIDATO']).VALOR_BEM.aggregate(['min', 'max', 'sum'])"
   ]
  },
  {
   "cell_type": "markdown",
   "metadata": {},
   "source": [
    "# Merge"
   ]
  },
  {
   "cell_type": "code",
   "execution_count": 50,
   "metadata": {
    "collapsed": false
   },
   "outputs": [],
   "source": [
    "df = pd.merge(cand, bens_total, left_on=\"SEQUENCIAL_CANDIDATO\", right_index=True)"
   ]
  },
  {
   "cell_type": "code",
   "execution_count": 86,
   "metadata": {
    "collapsed": true
   },
   "outputs": [],
   "source": [
    "def distribuicao_por_partido(column, pct=True):\n",
    "    \n",
    "    _df = df.groupby(['SIGLA_PARTIDO', column]).size().unstack()\n",
    "    \n",
    "    if pct:\n",
    "        \n",
    "        _df = _df.apply(lambda row: (row / row.sum())*100, axis=1)\n",
    "        \n",
    "    return _df"
   ]
  },
  {
   "cell_type": "code",
   "execution_count": 91,
   "metadata": {
    "collapsed": true
   },
   "outputs": [],
   "source": [
    "def qtd_por(column):\n",
    "    \n",
    "    return cand[column].value_counts().sort_values(ascending=False)"
   ]
  },
  {
   "cell_type": "markdown",
   "metadata": {},
   "source": [
    "## Quantidades"
   ]
  },
  {
   "cell_type": "code",
   "execution_count": 111,
   "metadata": {
    "collapsed": false
   },
   "outputs": [
    {
     "data": {
      "text/plain": [
       "PDT     1470\n",
       "PMDB    1081\n",
       "PSD      961\n",
       "PT       936\n",
       "PR       779\n",
       "Name: SIGLA_PARTIDO, dtype: int64"
      ]
     },
     "execution_count": 111,
     "metadata": {},
     "output_type": "execute_result"
    }
   ],
   "source": [
    "qtd_por('SIGLA_PARTIDO').head(5)"
   ]
  },
  {
   "cell_type": "code",
   "execution_count": 94,
   "metadata": {
    "collapsed": false
   },
   "outputs": [
    {
     "data": {
      "text/plain": [
       "MASCULINO    10165\n",
       "FEMININO      4654\n",
       "Name: DESCRICAO_SEXO, dtype: int64"
      ]
     },
     "execution_count": 94,
     "metadata": {},
     "output_type": "execute_result"
    }
   ],
   "source": [
    "qtd_por('DESCRICAO_SEXO')"
   ]
  },
  {
   "cell_type": "code",
   "execution_count": 96,
   "metadata": {
    "collapsed": false
   },
   "outputs": [
    {
     "data": {
      "text/plain": [
       "FORTALEZA            1130\n",
       "CAUCAIA               366\n",
       "JUAZEIRO DO NORTE     310\n",
       "Name: DESCRICAO_UE, dtype: int64"
      ]
     },
     "execution_count": 96,
     "metadata": {},
     "output_type": "execute_result"
    }
   ],
   "source": [
    "qtd_por('DESCRICAO_UE').head(3)"
   ]
  },
  {
   "cell_type": "code",
   "execution_count": 99,
   "metadata": {
    "collapsed": false
   },
   "outputs": [
    {
     "data": {
      "text/plain": [
       "OUTROS                        2137\n",
       "AGRICULTOR                    1704\n",
       "COMERCIANTE                   1195\n",
       "VEREADOR                       953\n",
       "SERVIDOR PÚBLICO MUNICIPAL     899\n",
       "EMPRESÁRIO                     822\n",
       "Name: DESCRICAO_OCUPACAO, dtype: int64"
      ]
     },
     "execution_count": 99,
     "metadata": {},
     "output_type": "execute_result"
    }
   ],
   "source": [
    "qtd_por('DESCRICAO_OCUPACAO').head(6)"
   ]
  },
  {
   "cell_type": "code",
   "execution_count": 106,
   "metadata": {
    "collapsed": false
   },
   "outputs": [
    {
     "data": {
      "text/plain": [
       "42    495\n",
       "46    482\n",
       "38    473\n",
       "37    451\n",
       "36    450\n",
       "Name: IDADE_DATA_ELEICAO, dtype: int64"
      ]
     },
     "execution_count": 106,
     "metadata": {},
     "output_type": "execute_result"
    }
   ],
   "source": [
    "qtd_por('IDADE_DATA_ELEICAO').head(5)"
   ]
  },
  {
   "cell_type": "code",
   "execution_count": 107,
   "metadata": {
    "collapsed": false
   },
   "outputs": [
    {
     "data": {
      "text/plain": [
       "CASADO(A)                    8135\n",
       "SOLTEIRO(A)                  5494\n",
       "DIVORCIADO(A)                 838\n",
       "VIÚVO(A)                      264\n",
       "SEPARADO(A) JUDICIALMENTE      88\n",
       "Name: DESCRICAO_ESTADO_CIVIL, dtype: int64"
      ]
     },
     "execution_count": 107,
     "metadata": {},
     "output_type": "execute_result"
    }
   ],
   "source": [
    "qtd_por('DESCRICAO_ESTADO_CIVIL')"
   ]
  },
  {
   "cell_type": "code",
   "execution_count": 108,
   "metadata": {
    "collapsed": false
   },
   "outputs": [
    {
     "data": {
      "text/plain": [
       "ENSINO MÉDIO COMPLETO            5948\n",
       "SUPERIOR COMPLETO                3677\n",
       "ENSINO FUNDAMENTAL COMPLETO      1744\n",
       "ENSINO FUNDAMENTAL INCOMPLETO    1574\n",
       "SUPERIOR INCOMPLETO               779\n",
       "LÊ E ESCREVE                      561\n",
       "ENSINO MÉDIO INCOMPLETO           536\n",
       "Name: DESCRICAO_GRAU_INSTRUCAO, dtype: int64"
      ]
     },
     "execution_count": 108,
     "metadata": {},
     "output_type": "execute_result"
    }
   ],
   "source": [
    "qtd_por('DESCRICAO_GRAU_INSTRUCAO')"
   ]
  },
  {
   "cell_type": "code",
   "execution_count": 109,
   "metadata": {
    "collapsed": false
   },
   "outputs": [
    {
     "data": {
      "text/plain": [
       "PARDA       9264\n",
       "BRANCA      4712\n",
       "PRETA        721\n",
       "AMARELA       80\n",
       "INDÍGENA      42\n",
       "Name: DESCRICAO_COR_RACA, dtype: int64"
      ]
     },
     "execution_count": 109,
     "metadata": {},
     "output_type": "execute_result"
    }
   ],
   "source": [
    "qtd_por('DESCRICAO_COR_RACA')"
   ]
  },
  {
   "cell_type": "code",
   "execution_count": 110,
   "metadata": {
    "collapsed": false
   },
   "outputs": [
    {
     "data": {
      "text/plain": [
       "FORTALEZA            1969\n",
       "SOBRAL                355\n",
       "ITAPIPOCA             302\n",
       "JUAZEIRO DO NORTE     282\n",
       "QUIXADÁ               268\n",
       "Name: NOME_MUNICIPIO_NASCIMENTO, dtype: int64"
      ]
     },
     "execution_count": 110,
     "metadata": {},
     "output_type": "execute_result"
    }
   ],
   "source": [
    "qtd_por('NOME_MUNICIPIO_NASCIMENTO').head(5)"
   ]
  },
  {
   "cell_type": "markdown",
   "metadata": {},
   "source": [
    "## Distribuição de sexo por partido"
   ]
  },
  {
   "cell_type": "code",
   "execution_count": 76,
   "metadata": {
    "collapsed": false
   },
   "outputs": [
    {
     "data": {
      "text/html": [
       "<div>\n",
       "<table border=\"1\" class=\"dataframe\">\n",
       "  <thead>\n",
       "    <tr style=\"text-align: right;\">\n",
       "      <th>DESCRICAO_SEXO</th>\n",
       "      <th>FEMININO</th>\n",
       "      <th>MASCULINO</th>\n",
       "    </tr>\n",
       "    <tr>\n",
       "      <th>SIGLA_PARTIDO</th>\n",
       "      <th></th>\n",
       "      <th></th>\n",
       "    </tr>\n",
       "  </thead>\n",
       "  <tbody>\n",
       "    <tr>\n",
       "      <th>DEM</th>\n",
       "      <td>21.428571</td>\n",
       "      <td>78.571429</td>\n",
       "    </tr>\n",
       "    <tr>\n",
       "      <th>PC do B</th>\n",
       "      <td>25.287356</td>\n",
       "      <td>74.712644</td>\n",
       "    </tr>\n",
       "    <tr>\n",
       "      <th>PCB</th>\n",
       "      <td>25.000000</td>\n",
       "      <td>75.000000</td>\n",
       "    </tr>\n",
       "    <tr>\n",
       "      <th>PDT</th>\n",
       "      <td>23.529412</td>\n",
       "      <td>76.470588</td>\n",
       "    </tr>\n",
       "    <tr>\n",
       "      <th>PEN</th>\n",
       "      <td>22.847682</td>\n",
       "      <td>77.152318</td>\n",
       "    </tr>\n",
       "  </tbody>\n",
       "</table>\n",
       "</div>"
      ],
      "text/plain": [
       "DESCRICAO_SEXO   FEMININO  MASCULINO\n",
       "SIGLA_PARTIDO                       \n",
       "DEM             21.428571  78.571429\n",
       "PC do B         25.287356  74.712644\n",
       "PCB             25.000000  75.000000\n",
       "PDT             23.529412  76.470588\n",
       "PEN             22.847682  77.152318"
      ]
     },
     "execution_count": 76,
     "metadata": {},
     "output_type": "execute_result"
    }
   ],
   "source": [
    "distribuicao_por_partido('DESCRICAO_SEXO').head(5)"
   ]
  },
  {
   "cell_type": "markdown",
   "metadata": {},
   "source": [
    "## Distribuição de cor por partido"
   ]
  },
  {
   "cell_type": "code",
   "execution_count": 80,
   "metadata": {
    "collapsed": false
   },
   "outputs": [
    {
     "data": {
      "text/html": [
       "<div>\n",
       "<table border=\"1\" class=\"dataframe\">\n",
       "  <thead>\n",
       "    <tr style=\"text-align: right;\">\n",
       "      <th>DESCRICAO_COR_RACA</th>\n",
       "      <th>AMARELA</th>\n",
       "      <th>BRANCA</th>\n",
       "      <th>INDÍGENA</th>\n",
       "      <th>PARDA</th>\n",
       "      <th>PRETA</th>\n",
       "    </tr>\n",
       "    <tr>\n",
       "      <th>SIGLA_PARTIDO</th>\n",
       "      <th></th>\n",
       "      <th></th>\n",
       "      <th></th>\n",
       "      <th></th>\n",
       "      <th></th>\n",
       "    </tr>\n",
       "  </thead>\n",
       "  <tbody>\n",
       "    <tr>\n",
       "      <th>DEM</th>\n",
       "      <td>0.476190</td>\n",
       "      <td>36.190476</td>\n",
       "      <td>0.476190</td>\n",
       "      <td>56.666667</td>\n",
       "      <td>6.190476</td>\n",
       "    </tr>\n",
       "    <tr>\n",
       "      <th>PC do B</th>\n",
       "      <td>0.229885</td>\n",
       "      <td>33.563218</td>\n",
       "      <td>1.379310</td>\n",
       "      <td>59.080460</td>\n",
       "      <td>5.747126</td>\n",
       "    </tr>\n",
       "    <tr>\n",
       "      <th>PCB</th>\n",
       "      <td>NaN</td>\n",
       "      <td>NaN</td>\n",
       "      <td>NaN</td>\n",
       "      <td>50.000000</td>\n",
       "      <td>50.000000</td>\n",
       "    </tr>\n",
       "    <tr>\n",
       "      <th>PDT</th>\n",
       "      <td>0.091912</td>\n",
       "      <td>34.558824</td>\n",
       "      <td>0.091912</td>\n",
       "      <td>62.316176</td>\n",
       "      <td>2.941176</td>\n",
       "    </tr>\n",
       "    <tr>\n",
       "      <th>PEN</th>\n",
       "      <td>1.655629</td>\n",
       "      <td>30.463576</td>\n",
       "      <td>0.331126</td>\n",
       "      <td>63.245033</td>\n",
       "      <td>4.304636</td>\n",
       "    </tr>\n",
       "  </tbody>\n",
       "</table>\n",
       "</div>"
      ],
      "text/plain": [
       "DESCRICAO_COR_RACA   AMARELA     BRANCA  INDÍGENA      PARDA      PRETA\n",
       "SIGLA_PARTIDO                                                          \n",
       "DEM                 0.476190  36.190476  0.476190  56.666667   6.190476\n",
       "PC do B             0.229885  33.563218  1.379310  59.080460   5.747126\n",
       "PCB                      NaN        NaN       NaN  50.000000  50.000000\n",
       "PDT                 0.091912  34.558824  0.091912  62.316176   2.941176\n",
       "PEN                 1.655629  30.463576  0.331126  63.245033   4.304636"
      ]
     },
     "execution_count": 80,
     "metadata": {},
     "output_type": "execute_result"
    }
   ],
   "source": [
    "distribuicao_por_partido('DESCRICAO_COR_RACA').head(5)"
   ]
  },
  {
   "cell_type": "markdown",
   "metadata": {},
   "source": [
    "## Distribuição de nacionalidade por partido"
   ]
  },
  {
   "cell_type": "code",
   "execution_count": 81,
   "metadata": {
    "collapsed": false
   },
   "outputs": [
    {
     "data": {
      "text/html": [
       "<div>\n",
       "<table border=\"1\" class=\"dataframe\">\n",
       "  <thead>\n",
       "    <tr style=\"text-align: right;\">\n",
       "      <th>DESCRICAO_NACIONALIDADE</th>\n",
       "      <th>BRASILEIRA (NATURALIZADA)</th>\n",
       "      <th>BRASILEIRA NATA</th>\n",
       "    </tr>\n",
       "    <tr>\n",
       "      <th>SIGLA_PARTIDO</th>\n",
       "      <th></th>\n",
       "      <th></th>\n",
       "    </tr>\n",
       "  </thead>\n",
       "  <tbody>\n",
       "    <tr>\n",
       "      <th>DEM</th>\n",
       "      <td>NaN</td>\n",
       "      <td>100.000000</td>\n",
       "    </tr>\n",
       "    <tr>\n",
       "      <th>PC do B</th>\n",
       "      <td>0.229885</td>\n",
       "      <td>99.770115</td>\n",
       "    </tr>\n",
       "    <tr>\n",
       "      <th>PCB</th>\n",
       "      <td>NaN</td>\n",
       "      <td>100.000000</td>\n",
       "    </tr>\n",
       "    <tr>\n",
       "      <th>PDT</th>\n",
       "      <td>0.367647</td>\n",
       "      <td>99.632353</td>\n",
       "    </tr>\n",
       "    <tr>\n",
       "      <th>PEN</th>\n",
       "      <td>NaN</td>\n",
       "      <td>100.000000</td>\n",
       "    </tr>\n",
       "  </tbody>\n",
       "</table>\n",
       "</div>"
      ],
      "text/plain": [
       "DESCRICAO_NACIONALIDADE  BRASILEIRA (NATURALIZADA)  BRASILEIRA NATA\n",
       "SIGLA_PARTIDO                                                      \n",
       "DEM                                            NaN       100.000000\n",
       "PC do B                                   0.229885        99.770115\n",
       "PCB                                            NaN       100.000000\n",
       "PDT                                       0.367647        99.632353\n",
       "PEN                                            NaN       100.000000"
      ]
     },
     "execution_count": 81,
     "metadata": {},
     "output_type": "execute_result"
    }
   ],
   "source": [
    "distribuicao_por_partido('DESCRICAO_NACIONALIDADE').head(5)"
   ]
  },
  {
   "cell_type": "markdown",
   "metadata": {},
   "source": [
    "## Distribuição de grau de instrução por partido"
   ]
  },
  {
   "cell_type": "code",
   "execution_count": 82,
   "metadata": {
    "collapsed": false
   },
   "outputs": [
    {
     "data": {
      "text/html": [
       "<div>\n",
       "<table border=\"1\" class=\"dataframe\">\n",
       "  <thead>\n",
       "    <tr style=\"text-align: right;\">\n",
       "      <th>DESCRICAO_GRAU_INSTRUCAO</th>\n",
       "      <th>ENSINO FUNDAMENTAL COMPLETO</th>\n",
       "      <th>ENSINO FUNDAMENTAL INCOMPLETO</th>\n",
       "      <th>ENSINO MÉDIO COMPLETO</th>\n",
       "      <th>ENSINO MÉDIO INCOMPLETO</th>\n",
       "      <th>LÊ E ESCREVE</th>\n",
       "      <th>SUPERIOR COMPLETO</th>\n",
       "      <th>SUPERIOR INCOMPLETO</th>\n",
       "    </tr>\n",
       "    <tr>\n",
       "      <th>SIGLA_PARTIDO</th>\n",
       "      <th></th>\n",
       "      <th></th>\n",
       "      <th></th>\n",
       "      <th></th>\n",
       "      <th></th>\n",
       "      <th></th>\n",
       "      <th></th>\n",
       "    </tr>\n",
       "  </thead>\n",
       "  <tbody>\n",
       "    <tr>\n",
       "      <th>DEM</th>\n",
       "      <td>8.571429</td>\n",
       "      <td>13.809524</td>\n",
       "      <td>33.809524</td>\n",
       "      <td>3.333333</td>\n",
       "      <td>2.857143</td>\n",
       "      <td>31.904762</td>\n",
       "      <td>5.714286</td>\n",
       "    </tr>\n",
       "    <tr>\n",
       "      <th>PC do B</th>\n",
       "      <td>10.804598</td>\n",
       "      <td>11.034483</td>\n",
       "      <td>34.482759</td>\n",
       "      <td>1.839080</td>\n",
       "      <td>3.448276</td>\n",
       "      <td>33.103448</td>\n",
       "      <td>5.287356</td>\n",
       "    </tr>\n",
       "    <tr>\n",
       "      <th>PCB</th>\n",
       "      <td>NaN</td>\n",
       "      <td>25.000000</td>\n",
       "      <td>25.000000</td>\n",
       "      <td>25.000000</td>\n",
       "      <td>NaN</td>\n",
       "      <td>25.000000</td>\n",
       "      <td>NaN</td>\n",
       "    </tr>\n",
       "    <tr>\n",
       "      <th>PDT</th>\n",
       "      <td>11.305147</td>\n",
       "      <td>10.294118</td>\n",
       "      <td>36.764706</td>\n",
       "      <td>2.389706</td>\n",
       "      <td>3.860294</td>\n",
       "      <td>30.882353</td>\n",
       "      <td>4.503676</td>\n",
       "    </tr>\n",
       "    <tr>\n",
       "      <th>PEN</th>\n",
       "      <td>13.245033</td>\n",
       "      <td>11.258278</td>\n",
       "      <td>44.039735</td>\n",
       "      <td>2.980132</td>\n",
       "      <td>1.655629</td>\n",
       "      <td>23.178808</td>\n",
       "      <td>3.642384</td>\n",
       "    </tr>\n",
       "  </tbody>\n",
       "</table>\n",
       "</div>"
      ],
      "text/plain": [
       "DESCRICAO_GRAU_INSTRUCAO  ENSINO FUNDAMENTAL COMPLETO  \\\n",
       "SIGLA_PARTIDO                                           \n",
       "DEM                                          8.571429   \n",
       "PC do B                                     10.804598   \n",
       "PCB                                               NaN   \n",
       "PDT                                         11.305147   \n",
       "PEN                                         13.245033   \n",
       "\n",
       "DESCRICAO_GRAU_INSTRUCAO  ENSINO FUNDAMENTAL INCOMPLETO  \\\n",
       "SIGLA_PARTIDO                                             \n",
       "DEM                                           13.809524   \n",
       "PC do B                                       11.034483   \n",
       "PCB                                           25.000000   \n",
       "PDT                                           10.294118   \n",
       "PEN                                           11.258278   \n",
       "\n",
       "DESCRICAO_GRAU_INSTRUCAO  ENSINO MÉDIO COMPLETO  ENSINO MÉDIO INCOMPLETO  \\\n",
       "SIGLA_PARTIDO                                                              \n",
       "DEM                                   33.809524                 3.333333   \n",
       "PC do B                               34.482759                 1.839080   \n",
       "PCB                                   25.000000                25.000000   \n",
       "PDT                                   36.764706                 2.389706   \n",
       "PEN                                   44.039735                 2.980132   \n",
       "\n",
       "DESCRICAO_GRAU_INSTRUCAO  LÊ E ESCREVE  SUPERIOR COMPLETO  SUPERIOR INCOMPLETO  \n",
       "SIGLA_PARTIDO                                                                   \n",
       "DEM                           2.857143          31.904762             5.714286  \n",
       "PC do B                       3.448276          33.103448             5.287356  \n",
       "PCB                                NaN          25.000000                  NaN  \n",
       "PDT                           3.860294          30.882353             4.503676  \n",
       "PEN                           1.655629          23.178808             3.642384  "
      ]
     },
     "execution_count": 82,
     "metadata": {},
     "output_type": "execute_result"
    }
   ],
   "source": [
    "distribuicao_por_partido('DESCRICAO_GRAU_INSTRUCAO').head(5)"
   ]
  },
  {
   "cell_type": "code",
   "execution_count": 85,
   "metadata": {
    "collapsed": false
   },
   "outputs": [
    {
     "data": {
      "text/html": [
       "<div>\n",
       "<table border=\"1\" class=\"dataframe\">\n",
       "  <thead>\n",
       "    <tr style=\"text-align: right;\">\n",
       "      <th>DESCRICAO_GRAU_INSTRUCAO</th>\n",
       "      <th>ENSINO FUNDAMENTAL COMPLETO</th>\n",
       "      <th>ENSINO FUNDAMENTAL INCOMPLETO</th>\n",
       "      <th>ENSINO MÉDIO COMPLETO</th>\n",
       "      <th>ENSINO MÉDIO INCOMPLETO</th>\n",
       "      <th>LÊ E ESCREVE</th>\n",
       "      <th>SUPERIOR COMPLETO</th>\n",
       "      <th>SUPERIOR INCOMPLETO</th>\n",
       "    </tr>\n",
       "    <tr>\n",
       "      <th>SIGLA_PARTIDO</th>\n",
       "      <th></th>\n",
       "      <th></th>\n",
       "      <th></th>\n",
       "      <th></th>\n",
       "      <th></th>\n",
       "      <th></th>\n",
       "      <th></th>\n",
       "    </tr>\n",
       "  </thead>\n",
       "  <tbody>\n",
       "    <tr>\n",
       "      <th>PSTU</th>\n",
       "      <td>16.666667</td>\n",
       "      <td>NaN</td>\n",
       "      <td>16.666667</td>\n",
       "      <td>NaN</td>\n",
       "      <td>NaN</td>\n",
       "      <td>50.000000</td>\n",
       "      <td>16.666667</td>\n",
       "    </tr>\n",
       "    <tr>\n",
       "      <th>PSOL</th>\n",
       "      <td>6.451613</td>\n",
       "      <td>9.677419</td>\n",
       "      <td>26.612903</td>\n",
       "      <td>2.419355</td>\n",
       "      <td>NaN</td>\n",
       "      <td>46.774194</td>\n",
       "      <td>8.064516</td>\n",
       "    </tr>\n",
       "    <tr>\n",
       "      <th>PHS</th>\n",
       "      <td>4.458599</td>\n",
       "      <td>7.643312</td>\n",
       "      <td>35.031847</td>\n",
       "      <td>3.184713</td>\n",
       "      <td>3.821656</td>\n",
       "      <td>40.127389</td>\n",
       "      <td>5.732484</td>\n",
       "    </tr>\n",
       "    <tr>\n",
       "      <th>REDE</th>\n",
       "      <td>4.444444</td>\n",
       "      <td>NaN</td>\n",
       "      <td>35.555556</td>\n",
       "      <td>NaN</td>\n",
       "      <td>11.111111</td>\n",
       "      <td>37.777778</td>\n",
       "      <td>11.111111</td>\n",
       "    </tr>\n",
       "    <tr>\n",
       "      <th>PMB</th>\n",
       "      <td>8.247423</td>\n",
       "      <td>8.762887</td>\n",
       "      <td>39.690722</td>\n",
       "      <td>3.092784</td>\n",
       "      <td>0.515464</td>\n",
       "      <td>34.536082</td>\n",
       "      <td>5.154639</td>\n",
       "    </tr>\n",
       "  </tbody>\n",
       "</table>\n",
       "</div>"
      ],
      "text/plain": [
       "DESCRICAO_GRAU_INSTRUCAO  ENSINO FUNDAMENTAL COMPLETO  \\\n",
       "SIGLA_PARTIDO                                           \n",
       "PSTU                                        16.666667   \n",
       "PSOL                                         6.451613   \n",
       "PHS                                          4.458599   \n",
       "REDE                                         4.444444   \n",
       "PMB                                          8.247423   \n",
       "\n",
       "DESCRICAO_GRAU_INSTRUCAO  ENSINO FUNDAMENTAL INCOMPLETO  \\\n",
       "SIGLA_PARTIDO                                             \n",
       "PSTU                                                NaN   \n",
       "PSOL                                           9.677419   \n",
       "PHS                                            7.643312   \n",
       "REDE                                                NaN   \n",
       "PMB                                            8.762887   \n",
       "\n",
       "DESCRICAO_GRAU_INSTRUCAO  ENSINO MÉDIO COMPLETO  ENSINO MÉDIO INCOMPLETO  \\\n",
       "SIGLA_PARTIDO                                                              \n",
       "PSTU                                  16.666667                      NaN   \n",
       "PSOL                                  26.612903                 2.419355   \n",
       "PHS                                   35.031847                 3.184713   \n",
       "REDE                                  35.555556                      NaN   \n",
       "PMB                                   39.690722                 3.092784   \n",
       "\n",
       "DESCRICAO_GRAU_INSTRUCAO  LÊ E ESCREVE  SUPERIOR COMPLETO  SUPERIOR INCOMPLETO  \n",
       "SIGLA_PARTIDO                                                                   \n",
       "PSTU                               NaN          50.000000            16.666667  \n",
       "PSOL                               NaN          46.774194             8.064516  \n",
       "PHS                           3.821656          40.127389             5.732484  \n",
       "REDE                         11.111111          37.777778            11.111111  \n",
       "PMB                           0.515464          34.536082             5.154639  "
      ]
     },
     "execution_count": 85,
     "metadata": {},
     "output_type": "execute_result"
    }
   ],
   "source": [
    "distribuicao_por_partido('DESCRICAO_GRAU_INSTRUCAO').sort_values('SUPERIOR COMPLETO', ascending=False).head(5)"
   ]
  },
  {
   "cell_type": "code",
   "execution_count": null,
   "metadata": {
    "collapsed": true
   },
   "outputs": [],
   "source": []
  }
 ],
 "metadata": {
  "anaconda-cloud": {},
  "kernelspec": {
   "display_name": "Python [Root]",
   "language": "python",
   "name": "Python [Root]"
  },
  "language_info": {
   "codemirror_mode": {
    "name": "ipython",
    "version": 3
   },
   "file_extension": ".py",
   "mimetype": "text/x-python",
   "name": "python",
   "nbconvert_exporter": "python",
   "pygments_lexer": "ipython3",
   "version": "3.5.2"
  }
 },
 "nbformat": 4,
 "nbformat_minor": 0
}
