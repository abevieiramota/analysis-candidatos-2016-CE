{
 "cells": [
  {
   "cell_type": "code",
   "execution_count": 1,
   "metadata": {
    "collapsed": true
   },
   "outputs": [],
   "source": [
    "import pandas as pd"
   ]
  },
  {
   "cell_type": "code",
   "execution_count": 5,
   "metadata": {
    "collapsed": true
   },
   "outputs": [],
   "source": [
    "df = pd.read_csv('../dados/perfil_eleitor_secao_2016_CE.txt', \n",
    "                 encoding='iso-8859-1', sep=';', header=None)"
   ]
  },
  {
   "cell_type": "code",
   "execution_count": 6,
   "metadata": {
    "collapsed": false
   },
   "outputs": [
    {
     "data": {
      "text/plain": [
       "(2055768, 17)"
      ]
     },
     "execution_count": 6,
     "metadata": {},
     "output_type": "execute_result"
    }
   ],
   "source": [
    "df.shape"
   ]
  },
  {
   "cell_type": "code",
   "execution_count": 7,
   "metadata": {
    "collapsed": false
   },
   "outputs": [
    {
     "data": {
      "text/html": [
       "<div>\n",
       "<table border=\"1\" class=\"dataframe\">\n",
       "  <thead>\n",
       "    <tr style=\"text-align: right;\">\n",
       "      <th></th>\n",
       "      <th>0</th>\n",
       "      <th>1</th>\n",
       "      <th>2</th>\n",
       "      <th>3</th>\n",
       "      <th>4</th>\n",
       "      <th>5</th>\n",
       "      <th>6</th>\n",
       "      <th>7</th>\n",
       "      <th>8</th>\n",
       "      <th>9</th>\n",
       "      <th>10</th>\n",
       "      <th>11</th>\n",
       "      <th>12</th>\n",
       "      <th>13</th>\n",
       "      <th>14</th>\n",
       "      <th>15</th>\n",
       "      <th>16</th>\n",
       "    </tr>\n",
       "  </thead>\n",
       "  <tbody>\n",
       "    <tr>\n",
       "      <th>0</th>\n",
       "      <td>19/07/2016</td>\n",
       "      <td>12:19:20</td>\n",
       "      <td>2016</td>\n",
       "      <td>CE</td>\n",
       "      <td>13005</td>\n",
       "      <td>JIJOCA DE JERICOACOARA</td>\n",
       "      <td>30</td>\n",
       "      <td>109</td>\n",
       "      <td>0</td>\n",
       "      <td>NÃO INFORMADO</td>\n",
       "      <td>10</td>\n",
       "      <td>SUPERIOR A 79 ANOS</td>\n",
       "      <td>2</td>\n",
       "      <td>LÊ E ESCREVE</td>\n",
       "      <td>4</td>\n",
       "      <td>FEMININO</td>\n",
       "      <td>1</td>\n",
       "    </tr>\n",
       "    <tr>\n",
       "      <th>1</th>\n",
       "      <td>19/07/2016</td>\n",
       "      <td>12:19:20</td>\n",
       "      <td>2016</td>\n",
       "      <td>CE</td>\n",
       "      <td>13005</td>\n",
       "      <td>JIJOCA DE JERICOACOARA</td>\n",
       "      <td>30</td>\n",
       "      <td>109</td>\n",
       "      <td>0</td>\n",
       "      <td>NÃO INFORMADO</td>\n",
       "      <td>7</td>\n",
       "      <td>45 A 59 ANOS</td>\n",
       "      <td>2</td>\n",
       "      <td>LÊ E ESCREVE</td>\n",
       "      <td>2</td>\n",
       "      <td>MASCULINO</td>\n",
       "      <td>2</td>\n",
       "    </tr>\n",
       "  </tbody>\n",
       "</table>\n",
       "</div>"
      ],
      "text/plain": [
       "           0         1     2   3      4                       5   6    7   8   \\\n",
       "0  19/07/2016  12:19:20  2016  CE  13005  JIJOCA DE JERICOACOARA  30  109   0   \n",
       "1  19/07/2016  12:19:20  2016  CE  13005  JIJOCA DE JERICOACOARA  30  109   0   \n",
       "\n",
       "              9   10                  11  12            13  14         15  16  \n",
       "0  NÃO INFORMADO  10  SUPERIOR A 79 ANOS   2  LÊ E ESCREVE   4   FEMININO   1  \n",
       "1  NÃO INFORMADO   7        45 A 59 ANOS   2  LÊ E ESCREVE   2  MASCULINO   2  "
      ]
     },
     "execution_count": 7,
     "metadata": {},
     "output_type": "execute_result"
    }
   ],
   "source": [
    "df.head(2)"
   ]
  },
  {
   "cell_type": "code",
   "execution_count": 8,
   "metadata": {
    "collapsed": false
   },
   "outputs": [
    {
     "data": {
      "text/plain": [
       "45 A 59 ANOS          455225\n",
       "35 A 44 ANOS          370957\n",
       "25 A 34 ANOS          330909\n",
       "60 A 69 ANOS          267111\n",
       "21 A 24 ANOS          165667\n",
       "70 A 79 ANOS          162947\n",
       "18 A 20 ANOS          125609\n",
       "SUPERIOR A 79 ANOS     98341\n",
       "17 ANOS                46874\n",
       "16 ANOS                31820\n",
       "INVÁLIDA                 308\n",
       "Name: 11, dtype: int64"
      ]
     },
     "execution_count": 8,
     "metadata": {},
     "output_type": "execute_result"
    }
   ],
   "source": [
    "df[11].value_counts()"
   ]
  },
  {
   "cell_type": "code",
   "execution_count": 11,
   "metadata": {
    "collapsed": false
   },
   "outputs": [],
   "source": [
    "faixa_etaria_por_municipio = df.groupby([5, 11]).size().unstack()"
   ]
  },
  {
   "cell_type": "code",
   "execution_count": 15,
   "metadata": {
    "collapsed": false
   },
   "outputs": [
    {
     "data": {
      "text/plain": [
       "11\n",
       "16 ANOS                 2458.0\n",
       "17 ANOS                 6582.0\n",
       "18 A 20 ANOS           25476.0\n",
       "21 A 24 ANOS           29267.0\n",
       "25 A 34 ANOS           68226.0\n",
       "35 A 44 ANOS           85205.0\n",
       "45 A 59 ANOS          118803.0\n",
       "60 A 69 ANOS           73956.0\n",
       "70 A 79 ANOS           44279.0\n",
       "INVÁLIDA                  51.0\n",
       "SUPERIOR A 79 ANOS     30052.0\n",
       "Name: FORTALEZA, dtype: float64"
      ]
     },
     "execution_count": 15,
     "metadata": {},
     "output_type": "execute_result"
    }
   ],
   "source": [
    "faixa_etaria_por_municipio.loc['FORTALEZA']"
   ]
  },
  {
   "cell_type": "code",
   "execution_count": 16,
   "metadata": {
    "collapsed": true
   },
   "outputs": [],
   "source": [
    "escolaridade_por_municipio = df.groupby([5, 13]).size().unstack()"
   ]
  },
  {
   "cell_type": "code",
   "execution_count": 17,
   "metadata": {
    "collapsed": false
   },
   "outputs": [
    {
     "data": {
      "text/plain": [
       "13\n",
       "ANALFABETO                       29782.0\n",
       "ENSINO FUNDAMENTAL COMPLETO      58391.0\n",
       "ENSINO FUNDAMENTAL INCOMPLETO    89779.0\n",
       "ENSINO MÉDIO COMPLETO            94260.0\n",
       "ENSINO MÉDIO INCOMPLETO          65427.0\n",
       "LÊ E ESCREVE                     59282.0\n",
       "NÃO INFORMADO                     2251.0\n",
       "SUPERIOR COMPLETO                47951.0\n",
       "SUPERIOR INCOMPLETO              37232.0\n",
       "Name: FORTALEZA, dtype: float64"
      ]
     },
     "execution_count": 17,
     "metadata": {},
     "output_type": "execute_result"
    }
   ],
   "source": [
    "escolaridade_por_municipio.loc['FORTALEZA']"
   ]
  },
  {
   "cell_type": "code",
   "execution_count": 18,
   "metadata": {
    "collapsed": true
   },
   "outputs": [],
   "source": [
    "sexo_por_municipio = df.groupby([5, 15]).size().unstack()"
   ]
  },
  {
   "cell_type": "code",
   "execution_count": 19,
   "metadata": {
    "collapsed": false
   },
   "outputs": [
    {
     "data": {
      "text/plain": [
       "15\n",
       "FEMININO         270265.0\n",
       "MASCULINO        212038.0\n",
       "NÃO INFORMADO      2052.0\n",
       "Name: FORTALEZA, dtype: float64"
      ]
     },
     "execution_count": 19,
     "metadata": {},
     "output_type": "execute_result"
    }
   ],
   "source": [
    "sexo_por_municipio.loc['FORTALEZA']"
   ]
  },
  {
   "cell_type": "code",
   "execution_count": null,
   "metadata": {
    "collapsed": true
   },
   "outputs": [],
   "source": []
  }
 ],
 "metadata": {
  "anaconda-cloud": {},
  "kernelspec": {
   "display_name": "Python [conda root]",
   "language": "python",
   "name": "conda-root-py"
  },
  "language_info": {
   "codemirror_mode": {
    "name": "ipython",
    "version": 3
   },
   "file_extension": ".py",
   "mimetype": "text/x-python",
   "name": "python",
   "nbconvert_exporter": "python",
   "pygments_lexer": "ipython3",
   "version": "3.5.2"
  }
 },
 "nbformat": 4,
 "nbformat_minor": 1
}
