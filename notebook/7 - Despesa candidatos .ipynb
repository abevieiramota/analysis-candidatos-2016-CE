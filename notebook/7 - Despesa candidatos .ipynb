{
 "cells": [
  {
   "cell_type": "code",
   "execution_count": 19,
   "metadata": {
    "collapsed": true
   },
   "outputs": [],
   "source": [
    "import pandas as pd\n",
    "pd.set_option('display.max_colwidth', 500)"
   ]
  },
  {
   "cell_type": "code",
   "execution_count": 14,
   "metadata": {
    "collapsed": true
   },
   "outputs": [],
   "source": [
    "df = pd.read_csv('../dados/despesas_candidatos_2016_CE.txt', encoding='iso-8859-1', sep=';',\n",
    "                 usecols=['Nome da UE', 'Nome candidato', 'Nome do fornecedor',\n",
    "                          'Nome do fornecedor (Receita Federal)', 'Setor econômico do fornecedor',\n",
    "                          'Valor despesa', 'Tipo despesa', 'Descriçao da despesa'])"
   ]
  },
  {
   "cell_type": "code",
   "execution_count": 15,
   "metadata": {
    "collapsed": false
   },
   "outputs": [
    {
     "data": {
      "text/plain": [
       "(20525, 8)"
      ]
     },
     "execution_count": 15,
     "metadata": {},
     "output_type": "execute_result"
    }
   ],
   "source": [
    "df.shape"
   ]
  },
  {
   "cell_type": "code",
   "execution_count": 16,
   "metadata": {
    "collapsed": false
   },
   "outputs": [
    {
     "data": {
      "text/html": [
       "<div>\n",
       "<table border=\"1\" class=\"dataframe\">\n",
       "  <thead>\n",
       "    <tr style=\"text-align: right;\">\n",
       "      <th></th>\n",
       "      <th>Nome da UE</th>\n",
       "      <th>Nome candidato</th>\n",
       "      <th>Nome do fornecedor</th>\n",
       "      <th>Nome do fornecedor (Receita Federal)</th>\n",
       "      <th>Setor econômico do fornecedor</th>\n",
       "      <th>Valor despesa</th>\n",
       "      <th>Tipo despesa</th>\n",
       "      <th>Descriçao da despesa</th>\n",
       "    </tr>\n",
       "  </thead>\n",
       "  <tbody>\n",
       "    <tr>\n",
       "      <th>0</th>\n",
       "      <td>CEDRO</td>\n",
       "      <td>MATHEUS GUEDES ARAÚJO</td>\n",
       "      <td>FRANCISCO DEOCLECIO SALVIANO LEITE - ME</td>\n",
       "      <td>FRANCISCO DEOCLECIO SALVIANO LEITE - ME</td>\n",
       "      <td>Fabricação de escovas, pincéis e vassouras</td>\n",
       "      <td>137,5</td>\n",
       "      <td>Diversas a especificar</td>\n",
       "      <td>CABO SIMPLES PARA VASSOURA</td>\n",
       "    </tr>\n",
       "    <tr>\n",
       "      <th>1</th>\n",
       "      <td>ITAIÇABA</td>\n",
       "      <td>ANTONIEL MAX SILVA HOLANDA</td>\n",
       "      <td>EUROCOPIAS REPRODUCOES E SERVICOS LTDA - ME</td>\n",
       "      <td>EUROCOPIAS REPRODUCOES E SERVICOS LTDA - ME</td>\n",
       "      <td>#NULO</td>\n",
       "      <td>210</td>\n",
       "      <td>Publicidade por adesivos</td>\n",
       "      <td>SERVIÇOS DE IMPRESSÃO DE ADESIVOS</td>\n",
       "    </tr>\n",
       "  </tbody>\n",
       "</table>\n",
       "</div>"
      ],
      "text/plain": [
       "  Nome da UE              Nome candidato  \\\n",
       "0      CEDRO       MATHEUS GUEDES ARAÚJO   \n",
       "1   ITAIÇABA  ANTONIEL MAX SILVA HOLANDA   \n",
       "\n",
       "                            Nome do fornecedor  \\\n",
       "0      FRANCISCO DEOCLECIO SALVIANO LEITE - ME   \n",
       "1  EUROCOPIAS REPRODUCOES E SERVICOS LTDA - ME   \n",
       "\n",
       "          Nome do fornecedor (Receita Federal)  \\\n",
       "0      FRANCISCO DEOCLECIO SALVIANO LEITE - ME   \n",
       "1  EUROCOPIAS REPRODUCOES E SERVICOS LTDA - ME   \n",
       "\n",
       "                Setor econômico do fornecedor Valor despesa  \\\n",
       "0  Fabricação de escovas, pincéis e vassouras         137,5   \n",
       "1                                       #NULO           210   \n",
       "\n",
       "               Tipo despesa               Descriçao da despesa  \n",
       "0    Diversas a especificar         CABO SIMPLES PARA VASSOURA  \n",
       "1  Publicidade por adesivos  SERVIÇOS DE IMPRESSÃO DE ADESIVOS  "
      ]
     },
     "execution_count": 16,
     "metadata": {},
     "output_type": "execute_result"
    }
   ],
   "source": [
    "df.head(2)"
   ]
  },
  {
   "cell_type": "code",
   "execution_count": 17,
   "metadata": {
    "collapsed": false
   },
   "outputs": [
    {
     "data": {
      "text/plain": [
       "Publicidade por materiais impressos                                         6020\n",
       "Publicidade por adesivos                                                    2703\n",
       "Atividades de militância e mobilização de rua                               2206\n",
       "Baixa de Estimaveis - Cessão ou locação de veículos                         1284\n",
       "Serviços prestados por terceiros                                            1184\n",
       "Baixa de Estimaveis - Serviços prestados por terceiros                       758\n",
       "Combustíveis e lubrificantes                                                 682\n",
       "Encargos financeiros, taxas bancárias e/ou op. cartão de crédito             659\n",
       "Produção de jingles, vinhetas e slogans                                      648\n",
       "Baixa de Estimaveis - Serviços próprios prestados por terceiros              631\n",
       "Despesas com pessoal                                                         466\n",
       "Serviços próprios prestados por terceiros                                    357\n",
       "Publicidade por carros de som                                                339\n",
       "Materiais de expediente                                                      318\n",
       "Diversas a especificar                                                       312\n",
       "Cessão ou locação de veículos                                                205\n",
       "Baixa de Estimaveis - Diversas a especificar                                 179\n",
       "Baixa de Estimaveis - Publicidade por materiais impressos                    166\n",
       "Baixa de Estimaveis - Publicidade por carros de som                          147\n",
       "Baixa de Estimaveis - Produção de jingles, vinhetas e slogans                141\n",
       "Locação/cessão de bens imóveis                                               116\n",
       "Baixa de Estimaveis - Atividades de militância e mobilização de rua          116\n",
       "Baixa de Estimaveis - Publicidade por adesivos                               112\n",
       "Produção de programas de rádio, televisão ou vídeo                           110\n",
       "Comícios                                                                     108\n",
       "Baixa de Estimaveis - Locação/cessão de bens imóveis                         101\n",
       "Locação/cessão de bens móveis (exceto veículos)                               69\n",
       "Pré-instalação física de comitê de campanha                                   67\n",
       "Baixa de Estimaveis - Locação/cessão de bens móveis (exceto veículos)         47\n",
       "Baixa de Estimaveis - Despesas com pessoal                                    43\n",
       "Eventos de promoção da candidatura                                            33\n",
       "Baixa de Estimaveis - Despesas com transporte ou deslocamento                 30\n",
       "Baixa de Estimaveis - Produção de programas de rádio, televisão ou vídeo      29\n",
       "Energia elétrica                                                              23\n",
       "Criação e inclusão de páginas na internet                                     18\n",
       "Despesas com transporte ou deslocamento                                       17\n",
       "Impostos, contribuições e taxas                                               16\n",
       "Alimentação                                                                   12\n",
       "Baixa de Estimaveis - Combustíveis e lubrificantes                            10\n",
       "Aquisição/Doação de bens móveis ou imóveis                                    10\n",
       "Publicidade por jornais e revistas                                             8\n",
       "Baixa de Estimaveis - Telefone                                                 4\n",
       "Água                                                                           4\n",
       "Doações financeiras a outros candidatos/partidos                               3\n",
       "Pesquisas ou testes eleitorais                                                 3\n",
       "Reembolsos de gastos realizados por eleitores                                  3\n",
       "Telefone                                                                       2\n",
       "Baixa de Estimaveis - Criação e inclusão de páginas na internet                2\n",
       "Baixa de Estimaveis - Pré-instalação física de comitê de campanha              1\n",
       "Baixa de Estimaveis - Energia elétrica                                         1\n",
       "Baixa de Estimaveis - Comícios                                                 1\n",
       "Despesas com Hospedagem                                                        1\n",
       "Name: Tipo despesa, dtype: int64"
      ]
     },
     "execution_count": 17,
     "metadata": {},
     "output_type": "execute_result"
    }
   ],
   "source": [
    "df['Tipo despesa'].value_counts()"
   ]
  },
  {
   "cell_type": "code",
   "execution_count": 20,
   "metadata": {
    "collapsed": false
   },
   "outputs": [
    {
     "data": {
      "text/html": [
       "<div>\n",
       "<table border=\"1\" class=\"dataframe\">\n",
       "  <thead>\n",
       "    <tr style=\"text-align: right;\">\n",
       "      <th></th>\n",
       "      <th>Nome da UE</th>\n",
       "      <th>Nome candidato</th>\n",
       "      <th>Nome do fornecedor</th>\n",
       "      <th>Nome do fornecedor (Receita Federal)</th>\n",
       "      <th>Setor econômico do fornecedor</th>\n",
       "      <th>Valor despesa</th>\n",
       "      <th>Tipo despesa</th>\n",
       "      <th>Descriçao da despesa</th>\n",
       "    </tr>\n",
       "  </thead>\n",
       "  <tbody>\n",
       "    <tr>\n",
       "      <th>12458</th>\n",
       "      <td>CARNAUBAL</td>\n",
       "      <td>JOSE WELITON SOUZA LEITE</td>\n",
       "      <td>JANAELY MENDES DE OLIVEIRA</td>\n",
       "      <td>JANAELY MENDES DE OLIVEIRA</td>\n",
       "      <td>#NULO</td>\n",
       "      <td>400</td>\n",
       "      <td>Atividades de militância e mobilização de rua</td>\n",
       "      <td>SERVIÇOS A SEREM PRESTADOS COM ATIVISTAS NA ELEIÇÃO 2016 - PREFEITO</td>\n",
       "    </tr>\n",
       "    <tr>\n",
       "      <th>15478</th>\n",
       "      <td>CRATO</td>\n",
       "      <td>GENALDO FERREIRA DE CARVALHO</td>\n",
       "      <td>FRANCISCO LUIZ LEITE SILVA</td>\n",
       "      <td>FRANCISCO LUIZ LEITE SILVA</td>\n",
       "      <td>#NULO</td>\n",
       "      <td>450</td>\n",
       "      <td>Atividades de militância e mobilização de rua</td>\n",
       "      <td>PRESTAÇÃO DE SERVIÇOS REMUNERADOS DE MOBILIZAÇÃO/DIVULGAÇÃO DE CAMPANHA</td>\n",
       "    </tr>\n",
       "  </tbody>\n",
       "</table>\n",
       "</div>"
      ],
      "text/plain": [
       "      Nome da UE                Nome candidato          Nome do fornecedor  \\\n",
       "12458  CARNAUBAL      JOSE WELITON SOUZA LEITE  JANAELY MENDES DE OLIVEIRA   \n",
       "15478      CRATO  GENALDO FERREIRA DE CARVALHO  FRANCISCO LUIZ LEITE SILVA   \n",
       "\n",
       "      Nome do fornecedor (Receita Federal) Setor econômico do fornecedor  \\\n",
       "12458           JANAELY MENDES DE OLIVEIRA                         #NULO   \n",
       "15478           FRANCISCO LUIZ LEITE SILVA                         #NULO   \n",
       "\n",
       "      Valor despesa                                   Tipo despesa  \\\n",
       "12458           400  Atividades de militância e mobilização de rua   \n",
       "15478           450  Atividades de militância e mobilização de rua   \n",
       "\n",
       "                                                          Descriçao da despesa  \n",
       "12458      SERVIÇOS A SEREM PRESTADOS COM ATIVISTAS NA ELEIÇÃO 2016 - PREFEITO  \n",
       "15478  PRESTAÇÃO DE SERVIÇOS REMUNERADOS DE MOBILIZAÇÃO/DIVULGAÇÃO DE CAMPANHA  "
      ]
     },
     "execution_count": 20,
     "metadata": {},
     "output_type": "execute_result"
    }
   ],
   "source": [
    "df[df['Tipo despesa'] == 'Atividades de militância e mobilização de rua'].sample(2)"
   ]
  },
  {
   "cell_type": "code",
   "execution_count": null,
   "metadata": {
    "collapsed": true
   },
   "outputs": [],
   "source": []
  }
 ],
 "metadata": {
  "kernelspec": {
   "display_name": "Python [conda root]",
   "language": "python",
   "name": "conda-root-py"
  },
  "language_info": {
   "codemirror_mode": {
    "name": "ipython",
    "version": 3
   },
   "file_extension": ".py",
   "mimetype": "text/x-python",
   "name": "python",
   "nbconvert_exporter": "python",
   "pygments_lexer": "ipython3",
   "version": "3.5.2"
  }
 },
 "nbformat": 4,
 "nbformat_minor": 1
}
